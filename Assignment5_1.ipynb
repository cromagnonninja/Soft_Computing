{
 "cells": [
  {
   "cell_type": "markdown",
   "metadata": {},
   "source": [
    "## ASSIGNMENT 5, QUESTION 1 \n",
    "### Submitted by Bhanu Bhandari, IEC2016027\n",
    "#### SPAM OR HAM CLASSIFIER \n",
    "Given the instructions in the assignment, all the proper steps have been followed. First, we have explored the dataset and preprocessed it in a manner which gives us only the words and all the other non-useful data has been removed. Then, we create dictionaries of all the words, and then just the **spam** words as well as just the **ham** words. Then, we complete our analysis by finding out the probabilites of particular words belonging to either dataset of spam or ham, and then we try to characterise the message as spam or ham based on their content - each spam/ham word is equally weighted. In the interest of preserving context, stopwords have not been removed. "
   ]
  },
  {
   "cell_type": "code",
   "execution_count": 2,
   "metadata": {},
   "outputs": [],
   "source": [
    "import numpy as np\n",
    "import pandas as pd\n",
    "import matplotlib.pyplot as plt\n",
    "import seaborn as sns\n",
    "%matplotlib inline\n",
    "\n",
    "# Styles\n",
    "plt.style.use('ggplot')\n",
    "sns.set_style('whitegrid')\n",
    "\n",
    "# Text Preprocessing\n",
    "import nltk\n",
    "# nltk.download(\"all\")\n",
    "import string\n",
    "from nltk.tokenize import word_tokenize"
   ]
  },
  {
   "cell_type": "code",
   "execution_count": 3,
   "metadata": {},
   "outputs": [],
   "source": [
    "dataset = pd.read_csv(\"/Users/bhanubhandari/Downloads/spam.csv\",encoding='latin-1')"
   ]
  },
  {
   "cell_type": "code",
   "execution_count": 4,
   "metadata": {},
   "outputs": [],
   "source": [
    "dataset = dataset[[\"v1\",\"v2\"]]"
   ]
  },
  {
   "cell_type": "code",
   "execution_count": 41,
   "metadata": {},
   "outputs": [
    {
     "data": {
      "text/html": [
       "<div>\n",
       "<style scoped>\n",
       "    .dataframe tbody tr th:only-of-type {\n",
       "        vertical-align: middle;\n",
       "    }\n",
       "\n",
       "    .dataframe tbody tr th {\n",
       "        vertical-align: top;\n",
       "    }\n",
       "\n",
       "    .dataframe thead th {\n",
       "        text-align: right;\n",
       "    }\n",
       "</style>\n",
       "<table border=\"1\" class=\"dataframe\">\n",
       "  <thead>\n",
       "    <tr style=\"text-align: right;\">\n",
       "      <th></th>\n",
       "      <th>label</th>\n",
       "      <th>text</th>\n",
       "    </tr>\n",
       "  </thead>\n",
       "  <tbody>\n",
       "    <tr>\n",
       "      <th>0</th>\n",
       "      <td>ham</td>\n",
       "      <td>go jurong point crazi avail bugi n great world...</td>\n",
       "    </tr>\n",
       "    <tr>\n",
       "      <th>1</th>\n",
       "      <td>ham</td>\n",
       "      <td>ok lar joke wif u oni</td>\n",
       "    </tr>\n",
       "    <tr>\n",
       "      <th>3</th>\n",
       "      <td>ham</td>\n",
       "      <td>u dun say earli hor u c alreadi say</td>\n",
       "    </tr>\n",
       "    <tr>\n",
       "      <th>4</th>\n",
       "      <td>ham</td>\n",
       "      <td>nah dont think goe usf live around though</td>\n",
       "    </tr>\n",
       "    <tr>\n",
       "      <th>5</th>\n",
       "      <td>spam</td>\n",
       "      <td>freemsg hey darl 3 week word back id like fun ...</td>\n",
       "    </tr>\n",
       "  </tbody>\n",
       "</table>\n",
       "</div>"
      ],
      "text/plain": [
       "  label                                               text\n",
       "0   ham  go jurong point crazi avail bugi n great world...\n",
       "1   ham                              ok lar joke wif u oni\n",
       "3   ham                u dun say earli hor u c alreadi say\n",
       "4   ham          nah dont think goe usf live around though\n",
       "5  spam  freemsg hey darl 3 week word back id like fun ..."
      ]
     },
     "execution_count": 41,
     "metadata": {},
     "output_type": "execute_result"
    }
   ],
   "source": [
    "dataset.head()"
   ]
  },
  {
   "cell_type": "code",
   "execution_count": 6,
   "metadata": {},
   "outputs": [],
   "source": [
    "dataset = dataset.rename(columns={\"v1\":\"label\",\"v2\":\"text\"})"
   ]
  },
  {
   "cell_type": "code",
   "execution_count": 42,
   "metadata": {},
   "outputs": [
    {
     "data": {
      "text/html": [
       "<div>\n",
       "<style scoped>\n",
       "    .dataframe tbody tr th:only-of-type {\n",
       "        vertical-align: middle;\n",
       "    }\n",
       "\n",
       "    .dataframe tbody tr th {\n",
       "        vertical-align: top;\n",
       "    }\n",
       "\n",
       "    .dataframe thead th {\n",
       "        text-align: right;\n",
       "    }\n",
       "</style>\n",
       "<table border=\"1\" class=\"dataframe\">\n",
       "  <thead>\n",
       "    <tr style=\"text-align: right;\">\n",
       "      <th></th>\n",
       "      <th>label</th>\n",
       "      <th>text</th>\n",
       "    </tr>\n",
       "  </thead>\n",
       "  <tbody>\n",
       "    <tr>\n",
       "      <th>0</th>\n",
       "      <td>ham</td>\n",
       "      <td>go jurong point crazi avail bugi n great world...</td>\n",
       "    </tr>\n",
       "    <tr>\n",
       "      <th>1</th>\n",
       "      <td>ham</td>\n",
       "      <td>ok lar joke wif u oni</td>\n",
       "    </tr>\n",
       "    <tr>\n",
       "      <th>3</th>\n",
       "      <td>ham</td>\n",
       "      <td>u dun say earli hor u c alreadi say</td>\n",
       "    </tr>\n",
       "    <tr>\n",
       "      <th>4</th>\n",
       "      <td>ham</td>\n",
       "      <td>nah dont think goe usf live around though</td>\n",
       "    </tr>\n",
       "    <tr>\n",
       "      <th>5</th>\n",
       "      <td>spam</td>\n",
       "      <td>freemsg hey darl 3 week word back id like fun ...</td>\n",
       "    </tr>\n",
       "  </tbody>\n",
       "</table>\n",
       "</div>"
      ],
      "text/plain": [
       "  label                                               text\n",
       "0   ham  go jurong point crazi avail bugi n great world...\n",
       "1   ham                              ok lar joke wif u oni\n",
       "3   ham                u dun say earli hor u c alreadi say\n",
       "4   ham          nah dont think goe usf live around though\n",
       "5  spam  freemsg hey darl 3 week word back id like fun ..."
      ]
     },
     "execution_count": 42,
     "metadata": {},
     "output_type": "execute_result"
    }
   ],
   "source": [
    "dataset.head()"
   ]
  },
  {
   "cell_type": "code",
   "execution_count": 8,
   "metadata": {},
   "outputs": [
    {
     "name": "stdout",
     "output_type": "stream",
     "text": [
      "<class 'pandas.core.frame.DataFrame'>\n",
      "RangeIndex: 5572 entries, 0 to 5571\n",
      "Data columns (total 2 columns):\n",
      "label    5572 non-null object\n",
      "text     5572 non-null object\n",
      "dtypes: object(2)\n",
      "memory usage: 87.1+ KB\n",
      "None\n",
      "ham     4825\n",
      "spam     747\n",
      "Name: label, dtype: int64\n"
     ]
    }
   ],
   "source": [
    "print(dataset.info())\n",
    "print(dataset.label.value_counts())"
   ]
  },
  {
   "cell_type": "markdown",
   "metadata": {},
   "source": [
    "We now visualise the dataset to see how many words belong to which category. "
   ]
  },
  {
   "cell_type": "code",
   "execution_count": 9,
   "metadata": {},
   "outputs": [
    {
     "data": {
      "image/png": "[encoded data removed]",
      "text/plain": [
       "<Figure size 432x432 with 1 Axes>"
      ]
     },
     "metadata": {},
     "output_type": "display_data"
    }
   ],
   "source": [
    "dataset[\"label\"].value_counts().plot(kind = 'pie', explode = [0, 0.1], figsize = (6, 6), autopct = '%1.1f%%', shadow = True)\n",
    "plt.ylabel(\"Spam vs Ham\")\n",
    "plt.legend([\"Ham\", \"Spam\"])\n",
    "plt.show()"
   ]
  },
  {
   "cell_type": "markdown",
   "metadata": {},
   "source": [
    "We pick up a few top repeating messages and remove all the duplicates in this case. "
   ]
  },
  {
   "cell_type": "code",
   "execution_count": 43,
   "metadata": {},
   "outputs": [
    {
     "data": {
      "text/html": [
       "<div>\n",
       "<style scoped>\n",
       "    .dataframe tbody tr th:only-of-type {\n",
       "        vertical-align: middle;\n",
       "    }\n",
       "\n",
       "    .dataframe tbody tr th {\n",
       "        vertical-align: top;\n",
       "    }\n",
       "\n",
       "    .dataframe thead th {\n",
       "        text-align: right;\n",
       "    }\n",
       "</style>\n",
       "<table border=\"1\" class=\"dataframe\">\n",
       "  <thead>\n",
       "    <tr style=\"text-align: right;\">\n",
       "      <th></th>\n",
       "      <th>len</th>\n",
       "      <th>amax</th>\n",
       "    </tr>\n",
       "    <tr>\n",
       "      <th>text</th>\n",
       "      <th></th>\n",
       "      <th></th>\n",
       "    </tr>\n",
       "  </thead>\n",
       "  <tbody>\n",
       "    <tr>\n",
       "      <th></th>\n",
       "      <td>5</td>\n",
       "      <td>ham</td>\n",
       "    </tr>\n",
       "    <tr>\n",
       "      <th>contract mobil 11 mnths latest motorola nokia etc free doubl min text orang tariff text yes callback remov record</th>\n",
       "      <td>2</td>\n",
       "      <td>spam</td>\n",
       "    </tr>\n",
       "    <tr>\n",
       "      <th>å£400 xmas reward wait comput random pick loyal mobil custom receiv å£400 reward call 09066380611</th>\n",
       "      <td>2</td>\n",
       "      <td>spam</td>\n",
       "    </tr>\n",
       "    <tr>\n",
       "      <th>goodmorn today late ltdecimalgt min</th>\n",
       "      <td>2</td>\n",
       "      <td>ham</td>\n",
       "    </tr>\n",
       "    <tr>\n",
       "      <th>tri contact repli offer video handset 750 anytim network min unlimit text camcord repli call 08000930705</th>\n",
       "      <td>2</td>\n",
       "      <td>spam</td>\n",
       "    </tr>\n",
       "    <tr>\n",
       "      <th>send logo 2 ur lover 2 name join heart txt love name1 name2 mobno eg love adam eve 07123456789 87077 yahoo pobox36504w45wq txtno 4 ad 150p</th>\n",
       "      <td>2</td>\n",
       "      <td>spam</td>\n",
       "    </tr>\n",
       "    <tr>\n",
       "      <th>ur chanc win å£250 cash everi wk txt action 80608 tscs wwwmovietriviatv custcar 08712405022 1x150pwk</th>\n",
       "      <td>2</td>\n",
       "      <td>spam</td>\n",
       "    </tr>\n",
       "    <tr>\n",
       "      <th>dear 0776xxxxxxx uve invit xchat final attempt contact u txt chat 86688 150pmsgrcvdhgsuite3422landsroww1j6hl ldn 18yr</th>\n",
       "      <td>2</td>\n",
       "      <td>spam</td>\n",
       "    </tr>\n",
       "    <tr>\n",
       "      <th>take exam march 3</th>\n",
       "      <td>2</td>\n",
       "      <td>ham</td>\n",
       "    </tr>\n",
       "    <tr>\n",
       "      <th>im come home 4 dinner</th>\n",
       "      <td>2</td>\n",
       "      <td>ham</td>\n",
       "    </tr>\n",
       "  </tbody>\n",
       "</table>\n",
       "</div>"
      ],
      "text/plain": [
       "                                                    len  amax\n",
       "text                                                         \n",
       "                                                      5   ham\n",
       "contract mobil 11 mnths latest motorola nokia e...    2  spam\n",
       "å£400 xmas reward wait comput random pick loyal...    2  spam\n",
       "goodmorn today late ltdecimalgt min                   2   ham\n",
       "tri contact repli offer video handset 750 anyti...    2  spam\n",
       "send logo 2 ur lover 2 name join heart txt love...    2  spam\n",
       "ur chanc win å£250 cash everi wk txt action 806...    2  spam\n",
       "dear 0776xxxxxxx uve invit xchat final attempt ...    2  spam\n",
       "take exam march 3                                     2   ham\n",
       "im come home 4 dinner                                 2   ham"
      ]
     },
     "metadata": {},
     "output_type": "display_data"
    }
   ],
   "source": [
    "topMessages = dataset.groupby(\"text\")[\"label\"].agg([len, np.max]).sort_values(by = \"len\", ascending = False).head(n = 10)\n",
    "display(topMessages)\n",
    "dataset.drop_duplicates(keep=False, inplace=True)"
   ]
  },
  {
   "cell_type": "markdown",
   "metadata": {},
   "source": [
    "We now start with cleaning up the dataset. We use the comma as a replacement for all the punctuation used in the messages. "
   ]
  },
  {
   "cell_type": "code",
   "execution_count": 11,
   "metadata": {},
   "outputs": [
    {
     "name": "stdout",
     "output_type": "stream",
     "text": [
      "(4888, 2)\n"
     ]
    }
   ],
   "source": [
    "print(dataset.shape)\n",
    "from nltk.stem import SnowballStemmer\n",
    "stemmer = SnowballStemmer(\"english\")\n",
    "\n",
    "def cleanText(message):\n",
    "    message = message.translate(str.maketrans('', '', string.punctuation))\n",
    "    words = [stemmer.stem(word) for word in message.split() if word.lower() not in stopwords.words(\"english\")]\n",
    "    return \" \".join(words)"
   ]
  },
  {
   "cell_type": "code",
   "execution_count": 12,
   "metadata": {},
   "outputs": [
    {
     "data": {
      "text/html": [
       "<div>\n",
       "<style scoped>\n",
       "    .dataframe tbody tr th:only-of-type {\n",
       "        vertical-align: middle;\n",
       "    }\n",
       "\n",
       "    .dataframe tbody tr th {\n",
       "        vertical-align: top;\n",
       "    }\n",
       "\n",
       "    .dataframe thead th {\n",
       "        text-align: right;\n",
       "    }\n",
       "</style>\n",
       "<table border=\"1\" class=\"dataframe\">\n",
       "  <thead>\n",
       "    <tr style=\"text-align: right;\">\n",
       "      <th></th>\n",
       "      <th>label</th>\n",
       "      <th>text</th>\n",
       "    </tr>\n",
       "  </thead>\n",
       "  <tbody>\n",
       "    <tr>\n",
       "      <th>0</th>\n",
       "      <td>ham</td>\n",
       "      <td>go jurong point crazi avail bugi n great world...</td>\n",
       "    </tr>\n",
       "    <tr>\n",
       "      <th>1</th>\n",
       "      <td>ham</td>\n",
       "      <td>ok lar joke wif u oni</td>\n",
       "    </tr>\n",
       "    <tr>\n",
       "      <th>3</th>\n",
       "      <td>ham</td>\n",
       "      <td>u dun say earli hor u c alreadi say</td>\n",
       "    </tr>\n",
       "    <tr>\n",
       "      <th>4</th>\n",
       "      <td>ham</td>\n",
       "      <td>nah dont think goe usf live around though</td>\n",
       "    </tr>\n",
       "    <tr>\n",
       "      <th>5</th>\n",
       "      <td>spam</td>\n",
       "      <td>freemsg hey darl 3 week word back id like fun ...</td>\n",
       "    </tr>\n",
       "  </tbody>\n",
       "</table>\n",
       "</div>"
      ],
      "text/plain": [
       "  label                                               text\n",
       "0   ham  go jurong point crazi avail bugi n great world...\n",
       "1   ham                              ok lar joke wif u oni\n",
       "3   ham                u dun say earli hor u c alreadi say\n",
       "4   ham          nah dont think goe usf live around though\n",
       "5  spam  freemsg hey darl 3 week word back id like fun ..."
      ]
     },
     "execution_count": 12,
     "metadata": {},
     "output_type": "execute_result"
    }
   ],
   "source": [
    "dataset[\"text\"] = dataset[\"text\"].apply(cleanText)\n",
    "dataset = dataset[[\"label\",\"text\"]]\n",
    "dataset.head()   "
   ]
  },
  {
   "cell_type": "markdown",
   "metadata": {},
   "source": [
    "### NAIVE BAYES CLASSIFICATION \n",
    "We now split the data into training and testing subsets and see which data is going into each category. "
   ]
  },
  {
   "cell_type": "code",
   "execution_count": 13,
   "metadata": {},
   "outputs": [],
   "source": [
    "def train_test_split(dataset): \n",
    "    random_val_msk = np.random.rand(len(dataset)) <= 0.7\n",
    "    X_train = dataset[random_val_msk]\n",
    "    X_test = dataset[~random_val_msk]\n",
    "    return X_train, X_test"
   ]
  },
  {
   "cell_type": "code",
   "execution_count": 14,
   "metadata": {},
   "outputs": [
    {
     "name": "stdout",
     "output_type": "stream",
     "text": [
      "   label                                               text\n",
      "0    ham  go jurong point crazi avail bugi n great world...\n",
      "1    ham                              ok lar joke wif u oni\n",
      "3    ham                u dun say earli hor u c alreadi say\n",
      "10   ham  im gonna home soon dont want talk stuff anymor...\n",
      "13   ham  ive search right word thank breather promis wo...\n",
      "   label                                               text\n",
      "4    ham          nah dont think goe usf live around though\n",
      "5   spam  freemsg hey darl 3 week word back id like fun ...\n",
      "6    ham      even brother like speak treat like aid patent\n",
      "14   ham                                        date sunday\n",
      "15  spam  xxxmobilemovieclub use credit click wap link n...\n"
     ]
    }
   ],
   "source": [
    "dataset_train, dataset_test = train_test_split(dataset)\n",
    "print(dataset_train.head())\n",
    "print(dataset_test.head())"
   ]
  },
  {
   "cell_type": "code",
   "execution_count": 15,
   "metadata": {},
   "outputs": [],
   "source": [
    "mask = np.random.rand(len(dataset))<0.7\n",
    "text_train = dataset.text[mask].values\n",
    "text_test = dataset.text[~mask].values\n",
    "label_train = dataset.label[mask].values\n",
    "label_test = dataset.label[~mask].values"
   ]
  },
  {
   "cell_type": "code",
   "execution_count": 16,
   "metadata": {},
   "outputs": [
    {
     "name": "stdout",
     "output_type": "stream",
     "text": [
      "3419 1469 3419 1469\n"
     ]
    }
   ],
   "source": [
    "print(len(text_train),len(text_test),len(label_train),len(label_test))"
   ]
  },
  {
   "cell_type": "markdown",
   "metadata": {},
   "source": [
    "## CREATING THE DICTIONARIES \n",
    "We now create dictionaries of counts of words, first among all the words, then just for the spam words as well as just for the ham words. "
   ]
  },
  {
   "cell_type": "code",
   "execution_count": 19,
   "metadata": {},
   "outputs": [
    {
     "data": {
      "text/plain": [
       "41"
      ]
     },
     "execution_count": 19,
     "metadata": {},
     "output_type": "execute_result"
    }
   ],
   "source": [
    "messages = dataset.text.values\n",
    "words_all = []\n",
    "for message in messages:\n",
    "    words_all += (message.split(\" \"))\n",
    "unique_words = set(words_all)\n",
    "dictionary_words = {i:words_all.count(i) for i in unique_words}\n",
    "dictionary_words['hello']"
   ]
  },
  {
   "cell_type": "code",
   "execution_count": 20,
   "metadata": {},
   "outputs": [
    {
     "data": {
      "text/plain": [
       "35"
      ]
     },
     "execution_count": 20,
     "metadata": {},
     "output_type": "execute_result"
    }
   ],
   "source": [
    "spam_messages = dataset.text.values[dataset.label == \"spam\"]\n",
    "spam_words = []\n",
    "for spam in spam_messages:\n",
    "    spam_words += (spam.split(\" \"))\n",
    "unique_spam_words = set(spam_words)\n",
    "dictionary_spam = {i:spam_words.count(i) for i in unique_spam_words}\n",
    "dictionary_spam['win']"
   ]
  },
  {
   "cell_type": "code",
   "execution_count": 21,
   "metadata": {},
   "outputs": [
    {
     "data": {
      "text/plain": [
       "194"
      ]
     },
     "execution_count": 21,
     "metadata": {},
     "output_type": "execute_result"
    }
   ],
   "source": [
    "ham_messages = dataset.text.values[dataset.label == \"ham\"]\n",
    "ham_words = []\n",
    "for ham in ham_messages:\n",
    "    ham_words += (ham.split(\" \"))\n",
    "unique_ham_words = set(ham_words)\n",
    "dictionary_ham = {i:ham_words.count(i) for i in unique_ham_words}\n",
    "dictionary_ham['love']"
   ]
  },
  {
   "cell_type": "code",
   "execution_count": 22,
   "metadata": {},
   "outputs": [
    {
     "name": "stdout",
     "output_type": "stream",
     "text": [
      "44161 9226 34935\n"
     ]
    }
   ],
   "source": [
    "total_words = len(words_all)\n",
    "total_spam = len(spam_words)\n",
    "total_ham = len(ham_words)\n",
    "print(total_words, total_spam, total_ham)"
   ]
  },
  {
   "cell_type": "markdown",
   "metadata": {},
   "source": [
    "## CALCULATING PROBABILITIES AND CLASSIFYING MESSAGES \n",
    "\n",
    "In this step, we determine all the probabilities necessary for the classifier to work. We also use \n",
    "### LAPLACE SMOOTHING \n",
    "to ensure that the problem of zero denominator does not occur. "
   ]
  },
  {
   "cell_type": "code",
   "execution_count": 35,
   "metadata": {},
   "outputs": [],
   "source": [
    "def probability_word_given_spam(word):\n",
    "    return (dictionary_spam[word]/total_spam) \n",
    "def probability_word_given_ham(word):\n",
    "    return dictionary_ham[word]/total_ham \n",
    "def probability_word(word):\n",
    "    try:\n",
    "        return dictionary_words[word]/total_words\n",
    "    except KeyError:\n",
    "        return 0.000000001 \n",
    "def probability_of_message_being_spam(message):\n",
    "    num = den = 1\n",
    "    for word in message.split():\n",
    "        if word in spam_words:\n",
    "            num *= probability_word_given_spam(word)\n",
    "            den *= probability_word(word)\n",
    "    # This step ensures laplace smoothing \n",
    "    if den==0:\n",
    "        num+=1\n",
    "        den+=1\n",
    "    return num/den\n",
    "def probability_of_message_being_ham(message): \n",
    "    num = den = 1\n",
    "    for word in message.split():\n",
    "        if word in ham_words:\n",
    "            num *= probability_word_given_ham(word)\n",
    "            den *= probability_word(word)\n",
    "    if den==0:\n",
    "        num+=1\n",
    "        den+=1\n",
    "    return num/den\n",
    "def spam_predictor(mess):\n",
    "    if probability_of_message_being_spam(mess) >= probability_of_message_being_ham(mess):\n",
    "        return \"spam\"\n",
    "    else:\n",
    "        return \"ham\""
   ]
  },
  {
   "cell_type": "markdown",
   "metadata": {},
   "source": [
    "### CONFUSION MATRIX AND ACCURACY DETERMINATION \n",
    "We use the above functions to compute the confusion matrix. "
   ]
  },
  {
   "cell_type": "code",
   "execution_count": 38,
   "metadata": {},
   "outputs": [],
   "source": [
    "def accuracy_prediction(text_test, label_test):\n",
    "    false_positive = false_negative = 0 \n",
    "    true_positive = true_negative = 0\n",
    "    for i,m in enumerate(text_test):\n",
    "        predicted = spam_predictor(m)\n",
    "        actual = label_test[i]\n",
    "        if predicted == \"spam\" and actual == \"spam\":\n",
    "            true_negative+=1\n",
    "        if predicted == \"spam\" and actual == \"ham\":\n",
    "            false_negative+=1\n",
    "        if predicted == \"ham\" and actual == \"spam\":\n",
    "            false_positive+=1\n",
    "        if predicted == \"ham\" and actual == \"ham\":\n",
    "            true_positive+=1\n",
    "    accuracy = (true_negative+true_positive)/len(text_test)\n",
    "    return accuracy, false_positive, false_negative, true_positive, true_negative"
   ]
  },
  {
   "cell_type": "code",
   "execution_count": 39,
   "metadata": {},
   "outputs": [
    {
     "name": "stdout",
     "output_type": "stream",
     "text": [
      "94.00953029271614 3 85 1217 164\n"
     ]
    }
   ],
   "source": [
    "acc,fp,fn,tp,tn = accuracy_prediction(text_test,label_test)\n",
    "print(acc*100, fp,fn,tp,tn)"
   ]
  },
  {
   "cell_type": "code",
   "execution_count": 40,
   "metadata": {},
   "outputs": [
    {
     "name": "stdout",
     "output_type": "stream",
     "text": [
      "True positive:  1217 \n",
      " False positive:  3 \n",
      " False Negative:  85 \n",
      " True Negative:  164\n"
     ]
    }
   ],
   "source": [
    "print(\"True positive: \",tp,\"\\n False positive: \",fp,\"\\n False Negative: \",fn,\"\\n True Negative: \",tn)"
   ]
  },
  {
   "cell_type": "markdown",
   "metadata": {},
   "source": [
    "## SUMMARY \n",
    "In this assignment, we have explored the usage of the Naive Bayes Classifier in order to detect whether a particular text message is good (ham) or spam. We first picked up raw text messages and cleaned them up in order to have a useful dataset of just words which can be mapped to dictionaries. Then we got rid of all the duplicate text messages, which mostly belonged to the spam category. Once this process was completed, we then calculated the apriori probabilities of words belonging to either category, and determined a threshold for a text message to be categorised as spam or ham. We then compared our predicted results for the testing data with the actual spam/ham values, and found that it performs wonderfully. "
   ]
  },
  {
   "cell_type": "code",
   "execution_count": null,
   "metadata": {},
   "outputs": [],
   "source": []
  }
 ],
 "metadata": {
  "kernelspec": {
   "display_name": "Python 3",
   "language": "python",
   "name": "python3"
  },
  "language_info": {
   "codemirror_mode": {
    "name": "ipython",
    "version": 3
   },
   "file_extension": ".py",
   "mimetype": "text/x-python",
   "name": "python",
   "nbconvert_exporter": "python",
   "pygments_lexer": "ipython3",
   "version": "3.6.5"
  }
 },
 "nbformat": 4,
 "nbformat_minor": 2
}
